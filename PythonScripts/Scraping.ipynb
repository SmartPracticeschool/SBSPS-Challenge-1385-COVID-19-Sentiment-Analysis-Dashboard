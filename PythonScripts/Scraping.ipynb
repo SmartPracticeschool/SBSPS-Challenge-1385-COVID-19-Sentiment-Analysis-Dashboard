{
  "nbformat": 4,
  "nbformat_minor": 0,
  "metadata": {
    "colab": {
      "name": "Scraping.ipynb",
      "provenance": [],
      "collapsed_sections": []
    },
    "kernelspec": {
      "name": "python3",
      "display_name": "Python 3"
    }
  },
  "cells": [
    {
      "cell_type": "code",
      "metadata": {
        "id": "eDAg5hISLp3m",
        "colab_type": "code",
        "colab": {
          "base_uri": "https://localhost:8080/",
          "height": 89
        },
        "outputId": "5445ae70-a59a-4606-ff7b-24b5891bf6e4"
      },
      "source": [
        "!pip install GetOldTweets3"
      ],
      "execution_count": null,
      "outputs": [
        {
          "output_type": "stream",
          "text": [
            "Requirement already satisfied: GetOldTweets3 in /usr/local/lib/python3.6/dist-packages (0.0.11)\n",
            "Requirement already satisfied: pyquery>=1.2.10 in /usr/local/lib/python3.6/dist-packages (from GetOldTweets3) (1.4.1)\n",
            "Requirement already satisfied: lxml>=3.5.0 in /usr/local/lib/python3.6/dist-packages (from GetOldTweets3) (4.2.6)\n",
            "Requirement already satisfied: cssselect>0.7.9 in /usr/local/lib/python3.6/dist-packages (from pyquery>=1.2.10->GetOldTweets3) (1.1.0)\n"
          ],
          "name": "stdout"
        }
      ]
    },
    {
      "cell_type": "code",
      "metadata": {
        "id": "fDXRXKImLyYO",
        "colab_type": "code",
        "colab": {}
      },
      "source": [
        "import numpy as np\n",
        "import pandas as pd\n",
        "import GetOldTweets3 as got\n",
        "import datetime\n",
        "import os\n",
        "from tqdm import tqdm"
      ],
      "execution_count": null,
      "outputs": []
    },
    {
      "cell_type": "code",
      "metadata": {
        "id": "Pyxs6dgtL5Ga",
        "colab_type": "code",
        "colab": {}
      },
      "source": [
        "path = \"/content/drive/My Drive/Covid19Data/\""
      ],
      "execution_count": null,
      "outputs": []
    },
    {
      "cell_type": "code",
      "metadata": {
        "id": "AMiNX33tMUOy",
        "colab_type": "code",
        "colab": {
          "base_uri": "https://localhost:8080/",
          "height": 226
        },
        "outputId": "dd256985-71db-4c6f-82ad-1ed8b240f789"
      },
      "source": [
        "for i in tqdm(range(1, 32)):\n",
        "  dt = datetime.datetime(2020,5,i)\n",
        "  dt_end = dt + datetime.timedelta(days=1)\n",
        "  tweetCriteria = got.manager.TweetCriteria().setQuerySearch('#lockdownindia OR #indialockdown OR #coronavirusindia OR #coronavirusinindia OR #coronaindia OR #covid19india OR #covid_19india OR #covid2019india OR #covidindia OR #indiafightscorona OR #indiafightscovid19 OR #indiafightscovid2019 OR #indiafightscovid OR #lockdown21 OR #indialockdown2 OR #indialockdown3 OR #indialockdown4 OR #indiaunlock OR #unlockindia OR #lockdownextensionindia OR #lockdowneffect')\\\n",
        "                                            .setSince(dt.strftime(\"%Y-%m-%d\"))\\\n",
        "                                            .setUntil(dt_end.strftime(\"%Y-%m-%d\"))\\\n",
        "                                            .setLang('en')\\\n",
        "                                            .setEmoji('unicode')\\\n",
        "                                            .setMaxTweets(500)\n",
        "  tweet = got.manager.TweetManager.getTweets(tweetCriteria)\n",
        "  text_tweets = [[tw.username,\n",
        "                  tw.text,\n",
        "                  tw.date,\n",
        "                  tw.retweets,\n",
        "                  tw.favorites,\n",
        "                  tw.mentions,\n",
        "                  tw.hashtags] for tw in tweet]\n",
        "      \n",
        "  news_df = pd.DataFrame(text_tweets, \n",
        "                              columns = ['user', 'text','date','favorites', 'retweets', 'mentions', 'hashtags'])\n",
        "  news_df.to_csv(path + dt.strftime(\"%Y-%m-%d\") + '.csv', index=False)\n"
      ],
      "execution_count": null,
      "outputs": [
        {
          "output_type": "stream",
          "text": [
            "  0%|          | 0/3 [00:00<?, ?it/s]"
          ],
          "name": "stderr"
        },
        {
          "output_type": "stream",
          "text": [
            "An error occured during an HTTP request: HTTP Error 429: Too Many Requests\n",
            "Try to open in browser: https://twitter.com/search?q=%23lockdownindia%20OR%20%23indialockdown%20OR%20%23coronavirusindia%20OR%20%23coronavirusinindia%20OR%20%23coronaindia%20OR%20%23covid19india%20OR%20%23covid_19india%20OR%20%23covid2019india%20OR%20%23covidindia%20OR%20%23indiafightscorona%20OR%20%23indiafightscovid19%20OR%20%23indiafightscovid2019%20OR%20%23indiafightscovid%20OR%20%23lockdown21%20OR%20%23indialockdown2%20OR%20%23indialockdown3%20OR%20%23indialockdown4%20OR%20%23indiaunlock%20OR%20%23unlockindia%20OR%20%23lockdownextensionindia%20OR%20%23lockdowneffect%20since%3A2020-05-29%20until%3A2020-05-30&src=typd\n"
          ],
          "name": "stdout"
        },
        {
          "output_type": "stream",
          "text": [
            "\n"
          ],
          "name": "stderr"
        },
        {
          "output_type": "error",
          "ename": "SystemExit",
          "evalue": "ignored",
          "traceback": [
            "An exception has occurred, use %tb to see the full traceback.\n",
            "\u001b[0;31mSystemExit\u001b[0m\n"
          ]
        },
        {
          "output_type": "stream",
          "text": [
            "/usr/local/lib/python3.6/dist-packages/IPython/core/interactiveshell.py:2890: UserWarning: To exit: use 'exit', 'quit', or Ctrl-D.\n",
            "  warn(\"To exit: use 'exit', 'quit', or Ctrl-D.\", stacklevel=1)\n"
          ],
          "name": "stderr"
        }
      ]
    },
    {
      "cell_type": "code",
      "metadata": {
        "id": "6wVKaaxBOZv3",
        "colab_type": "code",
        "colab": {}
      },
      "source": [
        "files = os.listdir(path)\n",
        "combined_csv = pd.concat([pd.read_csv(path + f) for f in files ])\n",
        "combined_csv.to_csv(path+'May.csv', index = False)"
      ],
      "execution_count": null,
      "outputs": []
    }
  ]
}